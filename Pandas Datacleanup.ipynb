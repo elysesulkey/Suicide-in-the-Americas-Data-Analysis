{
 "cells": [
  {
   "cell_type": "code",
   "execution_count": 1,
   "metadata": {},
   "outputs": [],
   "source": [
    "import pandas as pd"
   ]
  },
  {
   "cell_type": "code",
   "execution_count": 19,
   "metadata": {},
   "outputs": [],
   "source": [
    "# import csv\n",
    "rough = \"Resources/suicide_rates.csv\"\n",
    "rough_data_df = pd.read_csv(rough)"
   ]
  },
  {
   "cell_type": "code",
   "execution_count": 22,
   "metadata": {},
   "outputs": [],
   "source": [
    "# drop unnecessary columns\n",
    "rough_df = rough_data_df.drop(columns=['HDI for year', 'country-year'])\n",
    "\n",
    "# clean up age range fill\n",
    "rough_df['age'] = rough_df['age'].replace({'35-54 years': '35-54', '25-34 years': '25-34', '55-74 years': '55-74', '75+ years': '75+', '15-24 years': '15-24', '5-14 years': '5-14'})\n",
    "\n",
    "# rename columns\n",
    "renamed_df = rough_df.rename(columns={\"country\":\"Country\", \"year\":\"Year\", \"sex\": \"Sex\", \"age\": \"Age Range\", \"suicides_no\": \"Suicide Count\", \"population\": \"Population\", \"suicides/100k pop\": \"Suicides/100k pop\", \"gdp_for_year($)\": \"GDP(Year)\",\"gdp_per_capita($)\": \"GDP per Capita\", \"generation\": \"Generation\"})\n",
    "\n",
    "# filter for years 2000-2016\n",
    "after_start_date = renamed_df[\"Year\"] >= 2000\n",
    "before_end_date = renamed_df[\"Year\"] <= 2016\n",
    "between_two_dates = after_start_date & before_end_date\n",
    "filtered_date_df = renamed_df.loc[between_two_dates]"
   ]
  },
  {
   "cell_type": "code",
   "execution_count": 23,
   "metadata": {},
   "outputs": [
    {
     "data": {
      "text/plain": [
       "Country               16168\n",
       "Year                  16168\n",
       "Sex                   16168\n",
       "Age Range             16168\n",
       "Suicide Count         16168\n",
       "Population            16168\n",
       "Suicides/100k pop     16168\n",
       " gdp_for_year ($)     16168\n",
       "gdp_per_capita ($)    16168\n",
       "Generation            16168\n",
       "dtype: int64"
      ]
     },
     "execution_count": 23,
     "metadata": {},
     "output_type": "execute_result"
    }
   ],
   "source": [
    "filtered_date_df.count()"
   ]
  },
  {
   "cell_type": "code",
   "execution_count": null,
   "metadata": {},
   "outputs": [],
   "source": []
  }
 ],
 "metadata": {
  "kernelspec": {
   "display_name": "Python 3",
   "language": "python",
   "name": "python3"
  },
  "language_info": {
   "codemirror_mode": {
    "name": "ipython",
    "version": 3
   },
   "file_extension": ".py",
   "mimetype": "text/x-python",
   "name": "python",
   "nbconvert_exporter": "python",
   "pygments_lexer": "ipython3",
   "version": "3.8.5"
  }
 },
 "nbformat": 4,
 "nbformat_minor": 4
}
