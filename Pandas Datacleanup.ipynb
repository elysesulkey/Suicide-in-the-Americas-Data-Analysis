{
 "cells": [
  {
   "cell_type": "code",
   "execution_count": 1,
   "metadata": {},
   "outputs": [],
   "source": [
    "import pandas as pd\n",
    "import matplotlib.pyplot as plt\n"
   ]
  },
  {
   "cell_type": "code",
   "execution_count": 2,
   "metadata": {},
   "outputs": [],
   "source": [
    "# import csv\n",
    "rough = \"Resources/suicide_rates.csv\"\n",
    "rough_data_df = pd.read_csv(rough)\n",
    "\n",
    "plt.show()"
   ]
  },
  {
   "cell_type": "code",
   "execution_count": null,
   "metadata": {
    "scrolled": true
   },
   "outputs": [],
   "source": []
  },
  {
   "cell_type": "code",
   "execution_count": 3,
   "metadata": {
    "scrolled": true
   },
   "outputs": [
    {
     "data": {
      "text/html": [
       "<div>\n",
       "<style scoped>\n",
       "    .dataframe tbody tr th:only-of-type {\n",
       "        vertical-align: middle;\n",
       "    }\n",
       "\n",
       "    .dataframe tbody tr th {\n",
       "        vertical-align: top;\n",
       "    }\n",
       "\n",
       "    .dataframe thead th {\n",
       "        text-align: right;\n",
       "    }\n",
       "</style>\n",
       "<table border=\"1\" class=\"dataframe\">\n",
       "  <thead>\n",
       "    <tr style=\"text-align: right;\">\n",
       "      <th></th>\n",
       "      <th>Country</th>\n",
       "      <th>Year</th>\n",
       "      <th>Sex</th>\n",
       "      <th>Age Range</th>\n",
       "      <th>Suicide Count</th>\n",
       "      <th>Population</th>\n",
       "      <th>Suicides/100k pop</th>\n",
       "      <th>GDP(Year)</th>\n",
       "      <th>GDP per Capita</th>\n",
       "      <th>Generation</th>\n",
       "    </tr>\n",
       "  </thead>\n",
       "  <tbody>\n",
       "    <tr>\n",
       "      <th>132</th>\n",
       "      <td>Albania</td>\n",
       "      <td>2000</td>\n",
       "      <td>male</td>\n",
       "      <td>25-34</td>\n",
       "      <td>17</td>\n",
       "      <td>232000</td>\n",
       "      <td>7.33</td>\n",
       "      <td>3,632,043,908</td>\n",
       "      <td>1299</td>\n",
       "      <td>Generation X</td>\n",
       "    </tr>\n",
       "    <tr>\n",
       "      <th>133</th>\n",
       "      <td>Albania</td>\n",
       "      <td>2000</td>\n",
       "      <td>male</td>\n",
       "      <td>55-74</td>\n",
       "      <td>10</td>\n",
       "      <td>177400</td>\n",
       "      <td>5.64</td>\n",
       "      <td>3,632,043,908</td>\n",
       "      <td>1299</td>\n",
       "      <td>Silent</td>\n",
       "    </tr>\n",
       "    <tr>\n",
       "      <th>134</th>\n",
       "      <td>Albania</td>\n",
       "      <td>2000</td>\n",
       "      <td>female</td>\n",
       "      <td>75+</td>\n",
       "      <td>2</td>\n",
       "      <td>37800</td>\n",
       "      <td>5.29</td>\n",
       "      <td>3,632,043,908</td>\n",
       "      <td>1299</td>\n",
       "      <td>G.I. Generation</td>\n",
       "    </tr>\n",
       "    <tr>\n",
       "      <th>135</th>\n",
       "      <td>Albania</td>\n",
       "      <td>2000</td>\n",
       "      <td>male</td>\n",
       "      <td>75+</td>\n",
       "      <td>1</td>\n",
       "      <td>24900</td>\n",
       "      <td>4.02</td>\n",
       "      <td>3,632,043,908</td>\n",
       "      <td>1299</td>\n",
       "      <td>G.I. Generation</td>\n",
       "    </tr>\n",
       "    <tr>\n",
       "      <th>136</th>\n",
       "      <td>Albania</td>\n",
       "      <td>2000</td>\n",
       "      <td>female</td>\n",
       "      <td>15-24</td>\n",
       "      <td>6</td>\n",
       "      <td>263900</td>\n",
       "      <td>2.27</td>\n",
       "      <td>3,632,043,908</td>\n",
       "      <td>1299</td>\n",
       "      <td>Generation X</td>\n",
       "    </tr>\n",
       "  </tbody>\n",
       "</table>\n",
       "</div>"
      ],
      "text/plain": [
       "     Country  Year     Sex Age Range  Suicide Count  Population  \\\n",
       "132  Albania  2000    male     25-34             17      232000   \n",
       "133  Albania  2000    male     55-74             10      177400   \n",
       "134  Albania  2000  female       75+              2       37800   \n",
       "135  Albania  2000    male       75+              1       24900   \n",
       "136  Albania  2000  female     15-24              6      263900   \n",
       "\n",
       "     Suicides/100k pop      GDP(Year)  GDP per Capita       Generation  \n",
       "132               7.33  3,632,043,908            1299     Generation X  \n",
       "133               5.64  3,632,043,908            1299           Silent  \n",
       "134               5.29  3,632,043,908            1299  G.I. Generation  \n",
       "135               4.02  3,632,043,908            1299  G.I. Generation  \n",
       "136               2.27  3,632,043,908            1299     Generation X  "
      ]
     },
     "execution_count": 3,
     "metadata": {},
     "output_type": "execute_result"
    }
   ],
   "source": [
    "# drop unnecessary columns\n",
    "rough_df = rough_data_df.drop(columns=['HDI for year', 'country-year'])\n",
    "\n",
    "# clean up age range fill\n",
    "rough_df['age'] = rough_df['age'].replace({'35-54 years': '35-54', '25-34 years': '25-34', '55-74 years': '55-74', '75+ years': '75+', '15-24 years': '15-24', '5-14 years': '5-14'})\n",
    "\n",
    "# rename columns\n",
    "renamed_df = rough_df.rename(columns={\"country\":\"Country\", \"year\":\"Year\", \"sex\":\"Sex\", \"age\":\"Age Range\", \"suicides_no\":\"Suicide Count\", \"population\":\"Population\", \"suicides/100k pop\":\"Suicides/100k pop\", \" gdp_for_year ($) \":\"GDP(Year)\", \"gdp_per_capita ($)\":\"GDP per Capita\", \"generation\":\"Generation\"})\n",
    "\n",
    "# filter for years 2000-2016\n",
    "after_start_date = renamed_df[\"Year\"] >= 2000\n",
    "before_end_date = renamed_df[\"Year\"] <= 2016\n",
    "between_two_dates = after_start_date & before_end_date\n",
    "filtered_date_df = renamed_df.loc[between_two_dates]\n",
    "\n",
    "# display sample\n",
    "\n",
    "filtered_date_df.head()\n"
   ]
  },
  {
   "cell_type": "code",
   "execution_count": null,
   "metadata": {},
   "outputs": [],
   "source": [
    "country= renamed_df[\"Country\"]\n",
    "\n",
    "gdp_year= renamed_df[\"GDP(Year)\"]\n",
    "\n",
    "suicides= renamed_df[\"Suicides/100k pop\"]\n",
    "\n",
    "country_df= pd.DataFrame({\n",
    "    \n",
    "    \"Country\": country,\n",
    "    \"GDP(Year)\": gpd_year,\n",
    "    \"Suicides/100k pop\": suicides\n",
    "    \n",
    "})\n",
    "\n",
    "\n",
    "country_df = country_df.set_index('Country')\n",
    "country_df"
   ]
  },
  {
   "cell_type": "code",
   "execution_count": null,
   "metadata": {},
   "outputs": [],
   "source": [
    "age= renamed_df['Age Range']\n",
    "\n",
    "country= renamed_df[\"Country\"]\n",
    "\n",
    "gdp_year= renamed_df[\"GDP(Year)\"]\n",
    "\n",
    "suicides= renamed_df[\"Suicides/100k pop\"]\n",
    "\n",
    "age_df = pd.DataFrame({\n",
    "    \"Age Range\": age,\n",
    "    \"Country\": country,\n",
    "    \"GDP(Year)\": gdp_year,\n",
    "    \"Suicides/100k pop\": suicides\n",
    "    \n",
    "    \n",
    "})"
   ]
  },
  {
   "cell_type": "code",
   "execution_count": null,
   "metadata": {},
   "outputs": [],
   "source": [
    "gender= renamed_df['sex']\n",
    "\n",
    "age_range= renamed_df[\"Age Range\"]\n",
    "\n",
    "country= renamed_df[\"Country\"]\n",
    "\n",
    "gdp_year= renamed_df[\"GDP(Year)\"]\n",
    "\n",
    "suicides= renamed_df[\"Sucides/100k pop\"]\n",
    "\n",
    "gender_df= pd.DataFrame({\n",
    "    \n",
    "    \"Sex\": gender,\n",
    "    \"Age Range\": age_range,\n",
    "    \"Country\": country,\n",
    "    \"GDP(Year)\": gdp_year,\n",
    "    \"Sucides/100k pop\": suicides\n",
    "})"
   ]
  },
  {
   "cell_type": "code",
   "execution_count": 4,
   "metadata": {},
   "outputs": [],
   "source": [
    "#Are suicide rates higher in developing countries or developed countries?\n",
    "\n",
    "#heatmap of suicide rates globally \n"
   ]
  },
  {
   "cell_type": "code",
   "execution_count": 5,
   "metadata": {},
   "outputs": [
    {
     "data": {
      "text/html": [
       "<div>\n",
       "<style scoped>\n",
       "    .dataframe tbody tr th:only-of-type {\n",
       "        vertical-align: middle;\n",
       "    }\n",
       "\n",
       "    .dataframe tbody tr th {\n",
       "        vertical-align: top;\n",
       "    }\n",
       "\n",
       "    .dataframe thead th {\n",
       "        text-align: right;\n",
       "    }\n",
       "</style>\n",
       "<table border=\"1\" class=\"dataframe\">\n",
       "  <thead>\n",
       "    <tr style=\"text-align: right;\">\n",
       "      <th></th>\n",
       "      <th>mean</th>\n",
       "      <th>Deviation</th>\n",
       "    </tr>\n",
       "    <tr>\n",
       "      <th>Country</th>\n",
       "      <th></th>\n",
       "      <th></th>\n",
       "    </tr>\n",
       "  </thead>\n",
       "  <tbody>\n",
       "    <tr>\n",
       "      <th>Albania</th>\n",
       "      <td>11.481212</td>\n",
       "      <td>-8.099545</td>\n",
       "    </tr>\n",
       "    <tr>\n",
       "      <th>Antigua and Barbuda</th>\n",
       "      <td>11.481212</td>\n",
       "      <td>-10.606807</td>\n",
       "    </tr>\n",
       "    <tr>\n",
       "      <th>Argentina</th>\n",
       "      <td>11.481212</td>\n",
       "      <td>-1.295118</td>\n",
       "    </tr>\n",
       "    <tr>\n",
       "      <th>Armenia</th>\n",
       "      <td>11.481212</td>\n",
       "      <td>-8.349695</td>\n",
       "    </tr>\n",
       "    <tr>\n",
       "      <th>Aruba</th>\n",
       "      <td>11.481212</td>\n",
       "      <td>-3.338573</td>\n",
       "    </tr>\n",
       "    <tr>\n",
       "      <th>...</th>\n",
       "      <td>...</td>\n",
       "      <td>...</td>\n",
       "    </tr>\n",
       "    <tr>\n",
       "      <th>United Arab Emirates</th>\n",
       "      <td>11.481212</td>\n",
       "      <td>-10.163295</td>\n",
       "    </tr>\n",
       "    <tr>\n",
       "      <th>United Kingdom</th>\n",
       "      <td>11.481212</td>\n",
       "      <td>-4.711577</td>\n",
       "    </tr>\n",
       "    <tr>\n",
       "      <th>United States</th>\n",
       "      <td>11.481212</td>\n",
       "      <td>1.464205</td>\n",
       "    </tr>\n",
       "    <tr>\n",
       "      <th>Uruguay</th>\n",
       "      <td>11.481212</td>\n",
       "      <td>10.059677</td>\n",
       "    </tr>\n",
       "    <tr>\n",
       "      <th>Uzbekistan</th>\n",
       "      <td>11.481212</td>\n",
       "      <td>-4.660656</td>\n",
       "    </tr>\n",
       "  </tbody>\n",
       "</table>\n",
       "<p>98 rows × 2 columns</p>\n",
       "</div>"
      ],
      "text/plain": [
       "                           mean  Deviation\n",
       "Country                                   \n",
       "Albania               11.481212  -8.099545\n",
       "Antigua and Barbuda   11.481212 -10.606807\n",
       "Argentina             11.481212  -1.295118\n",
       "Armenia               11.481212  -8.349695\n",
       "Aruba                 11.481212  -3.338573\n",
       "...                         ...        ...\n",
       "United Arab Emirates  11.481212 -10.163295\n",
       "United Kingdom        11.481212  -4.711577\n",
       "United States         11.481212   1.464205\n",
       "Uruguay               11.481212  10.059677\n",
       "Uzbekistan            11.481212  -4.660656\n",
       "\n",
       "[98 rows x 2 columns]"
      ]
     },
     "execution_count": 5,
     "metadata": {},
     "output_type": "execute_result"
    }
   ],
   "source": [
    "#Country v.  Overall suicide rate\n",
    "#mean_sui = filtered_date_df['Suicides/100k pop'].mean()\n",
    "#filtered_date_df['Above Average?'] = (filtered_date_df['Suicides/100k pop'] >= mean_sui)\n",
    "\n",
    "df_Country_Overall_suicide_rate = filtered_date_df.groupby('Country')['Suicides/100k pop'].mean()\n",
    "#filtered_date_df.head()\n",
    "\n",
    "#define 'Overall suicide rate'\n",
    "#mean_sui1 = filtered_date_df['Suicides/100k pop'].mean()\n",
    "mean_sui2 = df_Country_Overall_suicide_rate.mean()\n",
    "#print(mean_sui1)raw average\n",
    "#print(mean_sui2)average of averages\n",
    "#df_Country_Overall_suicide_rate['Suicides/100k pop'] \n",
    "#df_df_Country_Overall_suicide_rate() \n",
    "Deviation = df_Country_Overall_suicide_rate - mean_sui2\n",
    "pd.DataFrame({\n",
    "    \"mean\":mean_sui2,\n",
    "    \"Deviation\":Deviation\n",
    "})\n"
   ]
  },
  {
   "cell_type": "code",
   "execution_count": 6,
   "metadata": {},
   "outputs": [
    {
     "data": {
      "text/plain": [
       "Country              Sex   \n",
       "Albania              female    2.475909\n",
       "                     male      4.287424\n",
       "Antigua and Barbuda  female    0.185952\n",
       "                     male      1.562857\n",
       "Argentina            female    3.373229\n",
       "Name: Suicides/100k pop, dtype: float64"
      ]
     },
     "execution_count": 6,
     "metadata": {},
     "output_type": "execute_result"
    }
   ],
   "source": [
    "#Gender v. Country & Suicide rate\n",
    "Gender_tmp_df = filtered_date_df.groupby(['Country','Sex'])['Suicides/100k pop'].mean()\n",
    "\n",
    "\n",
    "Gender_tmp_df.head()"
   ]
  },
  {
   "cell_type": "code",
   "execution_count": 10,
   "metadata": {
    "scrolled": true
   },
   "outputs": [
    {
     "data": {
      "text/plain": [
       "Country     Age Range\n",
       "Albania     15-24        3.287273\n",
       "            25-34        4.156364\n",
       "            35-54        3.963182\n",
       "            5-14         0.524091\n",
       "            55-74        3.438182\n",
       "                           ...   \n",
       "Uzbekistan  25-34        9.044583\n",
       "            35-54        9.106667\n",
       "            5-14         1.203333\n",
       "            55-74        7.130000\n",
       "            75+          5.862500\n",
       "Name: Suicides/100k pop, Length: 587, dtype: float64"
      ]
     },
     "execution_count": 10,
     "metadata": {},
     "output_type": "execute_result"
    }
   ],
   "source": [
    "#Age Range v. Country & Suicide rate\n",
    "Age_tmp_df = filtered_date_df.groupby(['Country','Age Range'])['Suicides/100k pop'].mean()\n",
    "\n",
    "Age_tmp_df\n",
    "\n",
    "\n"
   ]
  },
  {
   "cell_type": "code",
   "execution_count": null,
   "metadata": {},
   "outputs": [],
   "source": [
    "#suicide rates in the United States for 2017-2019?"
   ]
  },
  {
   "cell_type": "code",
   "execution_count": null,
   "metadata": {},
   "outputs": [],
   "source": [
    "#Aggrate data by gender/gdp & suicide rate for 2017-2019"
   ]
  },
  {
   "cell_type": "code",
   "execution_count": null,
   "metadata": {},
   "outputs": [],
   "source": [
    "#Aggrate Data by gender/gdp & suicide rate for 2017-2019"
   ]
  },
  {
   "cell_type": "code",
   "execution_count": null,
   "metadata": {},
   "outputs": [],
   "source": []
  }
 ],
 "metadata": {
  "kernelspec": {
   "display_name": "Python 3",
   "language": "python",
   "name": "python3"
  },
  "language_info": {
   "codemirror_mode": {
    "name": "ipython",
    "version": 3
   },
   "file_extension": ".py",
   "mimetype": "text/x-python",
   "name": "python",
   "nbconvert_exporter": "python",
   "pygments_lexer": "ipython3",
   "version": "3.8.5"
  }
 },
 "nbformat": 4,
 "nbformat_minor": 4
}
